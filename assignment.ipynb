{
  "cells": [
    {
      "cell_type": "code",
      "execution_count": 1,
      "metadata": {
        "id": "BUvDzeCZupb1"
      },
      "outputs": [],
      "source": [
        "chat_history = [\n",
        "    \"User: What are the benefits of machine learning?\",\n",
        "    \"Assistant: Machine learning can automate tasks, improve accuracy, and analyze large datasets.\",\n",
        "    \"User: Can you give examples of its applications?\",\n",
        "    \"Assistant: Sure! It's used in healthcare for diagnosis, in finance for fraud detection, and in marketing for customer segmentation.\",\n",
        "    \"User: How does it differ from traditional programming?\",\n",
        "    \"Assistant: Traditional programming relies on explicit instructions, while machine learning learns from data patterns.\",\n",
        "    \"User: What is deep learning?\",\n",
        "    \"Assistant: Deep learning is a subset of machine learning that uses neural networks with many layers.\",\n",
        "    \"User: Can you explain neural networks?\",\n",
        "    \"Assistant: Neural networks mimic the human brain's structure to process data and recognize patterns.\",\n",
        "    \"User: What are some challenges in machine learning?\",\n",
        "    \"Assistant: Challenges include overfitting, underfitting, and bias in training data.\",\n",
        "    \"User: What is natural language processing?\",\n",
        "    \"Assistant: NLP is a field of AI that focuses on the interaction between computers and humans through natural language.\",\n",
        "    \"User: How is NLP used in chatbots?\",\n",
        "    \"Assistant: NLP enables chatbots to understand user queries and respond appropriately.\",\n",
        "    \"User: What are some popular NLP libraries?\",\n",
        "    \"Assistant: Popular libraries include NLTK, spaCy, and Hugging Face's Transformers.\",\n",
        "    \"User: Can you explain supervised learning?\",\n",
        "    \"Assistant: Supervised learning involves training a model on labeled data to make predictions.\",\n",
        "    \"User: What about unsupervised learning?\",\n",
        "    \"Assistant: Unsupervised learning finds patterns in unlabeled data without specific outputs.\",\n",
        "    \"User: What are some examples of unsupervised learning algorithms?\",\n",
        "    \"Assistant: Examples include K-means clustering and hierarchical clustering.\",\n",
        "    \"User: How do you evaluate machine learning models?\",\n",
        "    \"Assistant: Common metrics include accuracy, precision, recall, and F1-score.\",\n",
        "    \"User: What is feature engineering?\",\n",
        "    \"Assistant: Feature engineering involves selecting and transforming variables to improve model performance.\",\n",
        "    \"User: How do you handle missing data?\",\n",
        "    \"Assistant: Techniques include imputation or removing records with missing values.\",\n",
        "    \"User: What is reinforcement learning?\",\n",
        "    \"Assistant: Reinforcement learning is an area where agents learn to make decisions by receiving rewards or penalties.\",\n",
        "    \"User: Can you give an example of reinforcement learning?\",\n",
        "    \"Assistant: A common example is training a robot to navigate a maze by rewarding it for reaching the end.\",\n",
        "    \"User: What are some ethical concerns in AI?\",\n",
        "    \"Assistant: Ethical concerns include bias, privacy issues, and accountability for AI decisions.\",\n",
        "    \"User: How can we mitigate bias in AI systems?\",\n",
        "    \"Assistant: Mitigation strategies include diverse training datasets and regular audits of AI systems.\",\n",
        "]"
      ]
    },
    {
      "cell_type": "code",
      "execution_count": 2,
      "metadata": {
        "id": "RJzdPOTpusUu"
      },
      "outputs": [],
      "source": [
        "def classify_chat_type(chat_history):\n",
        "    technical_keywords = [\"machine learning\", \"algorithm\", \"data\", \"model\", \"NLP\"]\n",
        "    casual_keywords = [\"how\", \"what\", \"?\"]\n",
        "\n",
        "    technical_count = sum(1 for message in chat_history if any(word in message.lower() for word in technical_keywords))\n",
        "\n",
        "    if technical_count > len(chat_history) / 2:\n",
        "        return 'Technical'\n",
        "\n",
        "    return 'Casual or Informative'"
      ]
    },
    {
      "cell_type": "code",
      "execution_count": 3,
      "metadata": {
        "colab": {
          "base_uri": "https://localhost:8080/"
        },
        "id": "H_h8U9U6uyEJ",
        "outputId": "5b0355c0-f85a-4eea-91cc-4b4ac0d21308"
      },
      "outputs": [
        {
          "name": "stdout",
          "output_type": "stream",
          "text": [
            "{'question': 'What is one benefit of machine learning?', 'options': ['Automates tasks', 'Improves accuracy', 'Requires less data', 'Is always accurate'], 'answer': 'Automates tasks', 'explanation': \"The correct answer is 'Automates tasks', because it directly relates to the benefits discussed.\"}\n",
            "{'question': 'In which field is machine learning NOT commonly used?', 'options': ['Cooking', 'Finance', 'Healthcare', 'Marketing'], 'answer': 'Cooking', 'explanation': \"The correct answer is 'Cooking', because it directly relates to the benefits discussed.\"}\n",
            "{'question': 'What distinguishes machine learning from traditional programming?', 'options': ['Machine learning learns from data patterns', 'Follows strict rules', 'Is slower than traditional programming', 'Does not use data'], 'answer': 'Machine learning learns from data patterns', 'explanation': \"The correct answer is 'Machine learning learns from data patterns', because it directly relates to the benefits discussed.\"}\n"
          ]
        }
      ],
      "source": [
        "def generate_mcqs_with_explanations(chat_history):\n",
        "    questions = [\n",
        "        (\"What is one benefit of machine learning?\",\n",
        "         [\"Automates tasks\",\n",
        "          \"Improves accuracy\",\n",
        "          \"Requires less data\",\n",
        "          \"Is always accurate\"],\n",
        "         0),  # Correct answer index\n",
        "        (\"In which field is machine learning NOT commonly used?\",\n",
        "         [\"Cooking\",\n",
        "          \"Finance\",\n",
        "          \"Healthcare\",\n",
        "          \"Marketing\"],\n",
        "         0),\n",
        "        (\"What distinguishes machine learning from traditional programming?\",\n",
        "         [\"Machine learning learns from data patterns\",\n",
        "          \"Follows strict rules\",\n",
        "          \"Is slower than traditional programming\",\n",
        "          \"Does not use data\"],\n",
        "         0)\n",
        "    ]\n",
        "\n",
        "    mcqs = []\n",
        "\n",
        "    for question, options, correct_index in questions:\n",
        "        explanation = f\"The correct answer is '{options[correct_index]}', because it directly relates to the benefits discussed.\"\n",
        "        mcqs.append({\n",
        "            'question': question,\n",
        "            'options': options,\n",
        "            'answer': options[correct_index],\n",
        "            'explanation': explanation\n",
        "        })\n",
        "\n",
        "    return mcqs\n",
        "\n",
        "mcq_output = generate_mcqs_with_explanations(chat_history)\n",
        "for mcq in mcq_output:\n",
        "    print(mcq)"
      ]
    },
    {
      "cell_type": "code",
      "execution_count": 4,
      "metadata": {
        "colab": {
          "base_uri": "https://localhost:8080/"
        },
        "id": "7mWfkYrbu6OU",
        "outputId": "a2f853bb-4db9-49f7-bc39-eb2bb0c4b652"
      },
      "outputs": [
        {
          "name": "stdout",
          "output_type": "stream",
          "text": [
            "Machine Learning Overview\n",
            "\n",
            "Machine learning offers numerous benefits such as automation of tasks and improved accuracy. For example, it can analyze large datasets effectively. Applications span across various sectors including healthcare for diagnosis (Assistant: Machine learning can automate tasks, improve accuracy, and analyze large datasets.) and finance for fraud detection (User: Can you give examples of its applications?).\n",
            "\n",
            "Unlike traditional programming which relies on explicit instructions (User: How does it differ from traditional programming?), machine learning learns from data patterns (Assistant: Traditional programming relies on explicit instructions, while machine learning learns from data patterns.). This distinction allows it to adapt and improve over time.\n"
          ]
        }
      ],
      "source": [
        "def generate_article_with_references(chat_history):\n",
        "    references = {\n",
        "        'benefits': [\n",
        "            chat_history[1],  # Machine learning benefits\n",
        "            chat_history[2]   # Examples of applications\n",
        "        ],\n",
        "        'differences': [\n",
        "            chat_history[4],  # Differences from traditional programming\n",
        "            chat_history[5]   # Explanation of ML vs programming\n",
        "        ]\n",
        "        # Add more references as needed\n",
        "    }\n",
        "\n",
        "    article = (\n",
        "        f\"Machine Learning Overview\\n\\n\"\n",
        "        f\"Machine learning offers numerous benefits such as automation of tasks \"\n",
        "        f\"and improved accuracy. For example, it can analyze large datasets effectively. \"\n",
        "        f\"Applications span across various sectors including healthcare for diagnosis \"\n",
        "        f\"({references['benefits'][0]}) and finance for fraud detection ({references['benefits'][1]}).\\n\\n\"\n",
        "        f\"Unlike traditional programming which relies on explicit instructions \"\n",
        "        f\"({references['differences'][0]}), machine learning learns from data patterns \"\n",
        "        f\"({references['differences'][1]}). This distinction allows it to adapt and improve over time.\"\n",
        "     )\n",
        "\n",
        "    return article\n",
        "\n",
        "article_output = generate_article_with_references(chat_history)\n",
        "print(article_output)"
      ]
    }
  ],
  "metadata": {
    "colab": {
      "provenance": [],
      "toc_visible": true
    },
    "kernelspec": {
      "display_name": "Python 3",
      "name": "python3"
    },
    "language_info": {
      "name": "python"
    }
  },
  "nbformat": 4,
  "nbformat_minor": 0
}
